{
  "nbformat": 4,
  "nbformat_minor": 0,
  "metadata": {
    "colab": {
      "provenance": [],
      "include_colab_link": true
    },
    "kernelspec": {
      "name": "python3",
      "display_name": "Python 3"
    },
    "language_info": {
      "name": "python"
    }
  },
  "cells": [
    {
      "cell_type": "markdown",
      "metadata": {
        "id": "view-in-github",
        "colab_type": "text"
      },
      "source": [
        "<a href=\"https://colab.research.google.com/github/iksnn/Learn-Basic-Deep-Learning/blob/main/Build_Agent.ipynb\" target=\"_parent\"><img src=\"https://colab.research.google.com/assets/colab-badge.svg\" alt=\"Open In Colab\"/></a>"
      ]
    },
    {
      "cell_type": "markdown",
      "source": [
        "#AGENT  \n",
        "By themselves, language models can't take actions - they just output text. A big use case for LangChain is creating agents. Agents are systems that use an LLM as a reasoning engine to determine which actions to take and what the inputs to those actions should be. The results of those actions can then be fed back into the agent and it determines whether more actions are needed, or whether it is okay to finish.\n",
        "\n"
      ],
      "metadata": {
        "id": "sPg2Y5C_OVbt"
      }
    },
    {
      "cell_type": "code",
      "execution_count": null,
      "metadata": {
        "id": "mWHfZb5Hj898"
      },
      "outputs": [],
      "source": [
        "!pip  install -qq langchain-google-genai google-generativeai"
      ]
    },
    {
      "cell_type": "code",
      "execution_count": null,
      "metadata": {
        "id": "kO4a_kMbj8-B",
        "colab": {
          "base_uri": "https://localhost:8080/"
        },
        "outputId": "44869fb1-9963-4163-abae-1f518d87829c"
      },
      "outputs": [
        {
          "name": "stdout",
          "output_type": "stream",
          "text": [
            "Write your API KEY here:··········\n"
          ]
        }
      ],
      "source": [
        "from langchain.chains import ConversationChain\n",
        "from langchain_core.prompts import ChatPromptTemplate, MessagesPlaceholder\n",
        "from langchain.agents import create_tool_calling_agent, AgentExecutor\n",
        "from langchain_core.tools import tool\n",
        "from langchain_core.prompts import ChatPromptTemplate\n",
        "from typing import Literal, List, Dict, Optional\n",
        "from pydantic import Field\n",
        "from datetime import datetime\n",
        "\n",
        "import getpass\n",
        "\n",
        "API_KEY = getpass.getpass('Write your API KEY here:')"
      ]
    },
    {
      "cell_type": "code",
      "source": [
        "from langchain_google_genai import ChatGoogleGenerativeAI\n",
        "\n",
        "llm = ChatGoogleGenerativeAI(\n",
        "    model=\"gemini-1.5-flash\",\n",
        "    temperature=0,\n",
        "    api_key=API_KEY\n",
        "    )"
      ],
      "metadata": {
        "id": "NSzmdaquGHnw"
      },
      "execution_count": null,
      "outputs": []
    },
    {
      "cell_type": "markdown",
      "source": [
        "#Exercise  \n",
        "We will make Agent as a waiter in a restaurant. The Agent must have the capability to serve customer, answer question, and calculate the bill."
      ],
      "metadata": {
        "id": "Kfqr9CCGPNvD"
      }
    },
    {
      "cell_type": "markdown",
      "source": [
        "## Define Tools  \n",
        "*   get_current_info\n",
        "*   list_menu  \n",
        "*   list_promo  \n",
        "\n"
      ],
      "metadata": {
        "id": "NY-zjDOiPfWH"
      }
    },
    {
      "cell_type": "code",
      "source": [
        "#define timezone\n",
        "from pytz import timezone\n",
        "tz = timezone('Asia/Jakarta')\n"
      ],
      "metadata": {
        "id": "CH1oqlJlcymj"
      },
      "execution_count": null,
      "outputs": []
    },
    {
      "cell_type": "code",
      "source": [
        "@tool\n",
        "def get_current_info() -> str:\n",
        "  \"\"\"Returns information about the current day.\"\"\"\n",
        "  return datetime.now(tz).strftime(\"%A\")\n",
        "\n",
        "@tool\n",
        "def list_menu() -> dict:\n",
        "  \"\"\"Returns information about the meals and beverages menu with prices.\"\"\"\n",
        "  menus = {\n",
        "      \"Breakfast Toast\": 2.0,\n",
        "      \"Pizza\": 15.0,\n",
        "      \"Spaghetti\": 9.0,\n",
        "      \"Rice Bowl\": 10.0,\n",
        "      \"Fried Chicken\": 7.0,\n",
        "      \"Latte\": 2.0,\n",
        "      \"Cappuccino\": 4.0,\n",
        "      \"Mineral Water\": 3.0,\n",
        "      \"Juice\": 5.0,\n",
        "      \"Soda\": 7.0\n",
        "  }\n",
        "  return menus\n",
        "\n",
        "@tool\n",
        "def list_promo(day:str) -> dict:\n",
        "  \"\"\"Returns the list of daily promos.\"\"\"\n",
        "  promo = {\n",
        "    \"Sunday\":{ \"item\": \"Juice\", \"discount\": \"10%\"},\n",
        "    \"Monday\":{ \"item\": \"Pizza\", \"discount\": \"10%\"},\n",
        "    \"Tuesday\":{ \"item\": \"Rice Bowl\", \"discount\": \"5%\"},\n",
        "    \"Wednesday\":{ \"item\": \"Cappuccino\", \"discount\": \"50%\"},\n",
        "    \"Thursday\":{ \"item\": \"Soda\", \"discount\": \"10%\"},\n",
        "    \"Friday\":{ \"item\": \"Spaghetti\", \"discount\": \"15%\"},\n",
        "    \"Saturday\":{ \"item\": \"Pizza\", \"discount\": \"15%\"}\n",
        "  }\n",
        "  return promo[day]"
      ],
      "metadata": {
        "id": "NP5BGuMONlvV"
      },
      "execution_count": null,
      "outputs": []
    },
    {
      "cell_type": "code",
      "source": [
        "tools = [get_current_info, list_menu, list_promo]"
      ],
      "metadata": {
        "id": "5cFDtY4vVCZW"
      },
      "execution_count": null,
      "outputs": []
    },
    {
      "cell_type": "markdown",
      "source": [
        "#Define Agent  \n",
        "*  Make prompt for giving instruction to LLM  \n",
        "*  Add tools description in prompt\n",
        "*  Use AgentExecutor for build Agent with defined tools and LLM."
      ],
      "metadata": {
        "id": "o6w3Za5VPrbZ"
      }
    },
    {
      "cell_type": "code",
      "source": [
        "system_prompt = '''\n",
        "You're a professional waiter in a restaurant. You know all the menu and promotions. Answer questions about the menu, price, and promotions. Don't answer any questions outside those contexts.  Do not use your own knowledge to answer the question; use the tools provided.\n",
        "\n",
        "You are provided some tools:\n",
        "- `get_current_info()` tool gets information about the current date and day. Example: `\"Monday`.\n",
        "- `list_promo()` tool gets information about daily promos.  Example output: `{{\"item\": \"Spaghetti\", \"discount\": \"15%\"}}`\n",
        "- `list_menu()` tool gets price information about meals and beverages with price. Example output: `{{\"Fried Chicken\": 7.0,\"Latte\": 2.0}}`\n",
        "\n",
        "\n",
        "Note : For total price, don't forget to calculate promo if any.\n",
        "'''"
      ],
      "metadata": {
        "id": "xditTSAEVEXw"
      },
      "execution_count": null,
      "outputs": []
    },
    {
      "cell_type": "code",
      "source": [
        "prompt = ChatPromptTemplate.from_messages([\n",
        "            (\"system\", system_prompt),\n",
        "            (\"human\", \"Question: {input}\\nHistory Chat: {history}\"),\n",
        "            (\"placeholder\", \"{agent_scratchpad}\"),\n",
        "        ])"
      ],
      "metadata": {
        "id": "5g7exvmZVWj1"
      },
      "execution_count": null,
      "outputs": []
    },
    {
      "cell_type": "code",
      "source": [
        "agent = create_tool_calling_agent(llm, tools, prompt)\n",
        "agent_executor = AgentExecutor(agent=agent, tools=tools, verbose=True)"
      ],
      "metadata": {
        "id": "gCcacs_xX8nO"
      },
      "execution_count": null,
      "outputs": []
    },
    {
      "cell_type": "code",
      "source": [
        "question = \"What promo for today?\"\n",
        "history = []"
      ],
      "metadata": {
        "id": "xY61k1cZZL4y"
      },
      "execution_count": null,
      "outputs": []
    },
    {
      "cell_type": "markdown",
      "source": [
        "## Try out Agent with chat history\n",
        "Scenario:  \n",
        "*  Ask promo for today  \n",
        "*  Chose the promo and one non-promo menu  \n",
        "\n",
        "\n",
        "Goals : Agent can make correct decision to chose tool and give correct responses to customer"
      ],
      "metadata": {
        "id": "aCtNsMARQWGX"
      }
    },
    {
      "cell_type": "code",
      "source": [
        "try:\n",
        "  response = agent_executor.invoke(\n",
        "      {\n",
        "          \"input\": question,\n",
        "          \"history\": history\n",
        "      }\n",
        "  )\n",
        "  print(\"\\n\",response['output'])\n",
        "except Exception as e:\n",
        "  error = str(e)\n",
        "  print(\"\\nError:\",e)"
      ],
      "metadata": {
        "colab": {
          "base_uri": "https://localhost:8080/"
        },
        "id": "A96Q2M6KZrjf",
        "outputId": "56e97583-1bac-4241-eeb5-825b6654a90f"
      },
      "execution_count": null,
      "outputs": [
        {
          "output_type": "stream",
          "name": "stdout",
          "text": [
            "\n",
            "\n",
            "\u001b[1m> Entering new AgentExecutor chain...\u001b[0m\n",
            "\u001b[32;1m\u001b[1;3m\n",
            "Invoking: `get_current_info` with `{}`\n",
            "\n",
            "\n",
            "\u001b[0m\u001b[36;1m\u001b[1;3mTuesday\u001b[0m\u001b[32;1m\u001b[1;3m\n",
            "Invoking: `list_promo` with `{'day': 'Tuesday'}`\n",
            "\n",
            "\n",
            "\u001b[0m\u001b[38;5;200m\u001b[1;3m{'item': 'Rice Bowl', 'discount': '5%'}\u001b[0m\u001b[32;1m\u001b[1;3mToday's promo is 5% discount on Rice Bowl.\u001b[0m\n",
            "\n",
            "\u001b[1m> Finished chain.\u001b[0m\n",
            "\n",
            " Today's promo is 5% discount on Rice Bowl.\n"
          ]
        }
      ]
    },
    {
      "cell_type": "code",
      "source": [
        "history.append((\"human\",f\"{question}\"))\n",
        "history.append((\"ai\",f\"{response['output']}\"))"
      ],
      "metadata": {
        "id": "d1QCg14NBimL"
      },
      "execution_count": null,
      "outputs": []
    },
    {
      "cell_type": "code",
      "source": [
        "history"
      ],
      "metadata": {
        "colab": {
          "base_uri": "https://localhost:8080/"
        },
        "id": "vd_v1sfLBijq",
        "outputId": "e70c4d9f-866a-4dec-ee4e-e8cc05bb6e9d"
      },
      "execution_count": null,
      "outputs": [
        {
          "output_type": "execute_result",
          "data": {
            "text/plain": [
              "[('human', 'What promo for today?'),\n",
              " ('ai', \"Today's promo is 5% discount on Rice Bowl.\")]"
            ]
          },
          "metadata": {},
          "execution_count": 13
        }
      ]
    },
    {
      "cell_type": "code",
      "source": [
        "question = \"Okay, i want to see all menu\""
      ],
      "metadata": {
        "id": "oeqqT34mBig9"
      },
      "execution_count": null,
      "outputs": []
    },
    {
      "cell_type": "code",
      "source": [
        "try:\n",
        "  response = agent_executor.invoke(\n",
        "      {\n",
        "          \"input\": question,\n",
        "          \"history\": history\n",
        "      }\n",
        "  )\n",
        "  print(\"\\n\",response['output'])\n",
        "except Exception as e:\n",
        "  error = str(e)\n",
        "  print(\"\\nError:\",e)"
      ],
      "metadata": {
        "colab": {
          "base_uri": "https://localhost:8080/"
        },
        "id": "pwlgVBGqCZE-",
        "outputId": "6543e2a8-fa77-420b-d7a4-d6b97015366d"
      },
      "execution_count": null,
      "outputs": [
        {
          "output_type": "stream",
          "name": "stdout",
          "text": [
            "\n",
            "\n",
            "\u001b[1m> Entering new AgentExecutor chain...\u001b[0m\n",
            "\u001b[32;1m\u001b[1;3m\n",
            "Invoking: `list_menu` with `{}`\n",
            "\n",
            "\n",
            "\u001b[0m\u001b[33;1m\u001b[1;3m{'Breakfast Toast': 2.0, 'Pizza': 15.0, 'Spaghetti': 9.0, 'Rice Bowl': 10.0, 'Fried Chicken': 7.0, 'Latte': 2.0, 'Cappuccino': 4.0, 'Mineral Water': 3.0, 'Juice': 5.0, 'Soda': 7.0}\u001b[0m\u001b[32;1m\u001b[1;3mHere is the menu: Breakfast Toast($2), Cappuccino($4), Fried Chicken($7), Juice($5), Latte($2), Mineral Water($3), Pizza($15), Rice Bowl($10), Soda($7), Spaghetti($9).\n",
            "\u001b[0m\n",
            "\n",
            "\u001b[1m> Finished chain.\u001b[0m\n",
            "\n",
            " Here is the menu: Breakfast Toast($2), Cappuccino($4), Fried Chicken($7), Juice($5), Latte($2), Mineral Water($3), Pizza($15), Rice Bowl($10), Soda($7), Spaghetti($9).\n",
            "\n"
          ]
        }
      ]
    },
    {
      "cell_type": "code",
      "source": [
        "history.append((\"human\",f\"{question}\"))\n",
        "history.append((\"ai\",f\"{response['output']}\"))"
      ],
      "metadata": {
        "id": "fNoI4OgbMMtx"
      },
      "execution_count": null,
      "outputs": []
    },
    {
      "cell_type": "code",
      "source": [
        "question = \"I want to order rice bowl and latte\""
      ],
      "metadata": {
        "id": "j2d58txBTUmq"
      },
      "execution_count": null,
      "outputs": []
    },
    {
      "cell_type": "code",
      "source": [
        "try:\n",
        "  response = agent_executor.invoke(\n",
        "      {\n",
        "          \"input\": question,\n",
        "          \"history\": history\n",
        "      }\n",
        "  )\n",
        "  print(\"\\n\",response['output'])\n",
        "except Exception as e:\n",
        "  error = str(e)\n",
        "  print(\"\\nError:\",e)"
      ],
      "metadata": {
        "colab": {
          "base_uri": "https://localhost:8080/"
        },
        "id": "b_qTJ4P4TcHB",
        "outputId": "cfb558b9-43e1-4bdb-bbeb-7255dd1ab9ca"
      },
      "execution_count": null,
      "outputs": [
        {
          "output_type": "stream",
          "name": "stdout",
          "text": [
            "\n",
            "\n",
            "\u001b[1m> Entering new AgentExecutor chain...\u001b[0m\n",
            "\u001b[32;1m\u001b[1;3m\n",
            "Invoking: `list_menu` with `{}`\n",
            "\n",
            "\n",
            "\u001b[0m\u001b[33;1m\u001b[1;3m{'Breakfast Toast': 2.0, 'Pizza': 15.0, 'Spaghetti': 9.0, 'Rice Bowl': 10.0, 'Fried Chicken': 7.0, 'Latte': 2.0, 'Cappuccino': 4.0, 'Mineral Water': 3.0, 'Juice': 5.0, 'Soda': 7.0}\u001b[0m\u001b[32;1m\u001b[1;3mRice Bowl is $10 and Latte is $2.  The total is $12.  Today's promo is 5% off on Rice Bowl, so the total will be $11.4.\n",
            "\u001b[0m\n",
            "\n",
            "\u001b[1m> Finished chain.\u001b[0m\n",
            "\n",
            " Rice Bowl is $10 and Latte is $2.  The total is $12.  Today's promo is 5% off on Rice Bowl, so the total will be $11.4.\n",
            "\n"
          ]
        }
      ]
    },
    {
      "cell_type": "code",
      "source": [],
      "metadata": {
        "id": "sDpSfIhmTgt2"
      },
      "execution_count": null,
      "outputs": []
    }
  ]
}